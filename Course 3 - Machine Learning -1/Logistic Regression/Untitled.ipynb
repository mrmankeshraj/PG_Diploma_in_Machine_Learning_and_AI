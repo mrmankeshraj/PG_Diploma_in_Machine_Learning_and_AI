{
 "cells": [
  {
   "cell_type": "code",
   "execution_count": null,
   "id": "006e55e4",
   "metadata": {},
   "outputs": [],
   "source": [
    "import pandas as pd"
   ]
  },
  {
   "cell_type": "code",
   "execution_count": null,
   "id": "8395ae0c",
   "metadata": {},
   "outputs": [],
   "source": [
    "df = pd.read_csv(\"loan.csv\", low_memory=False)"
   ]
  },
  {
   "cell_type": "code",
   "execution_count": null,
   "id": "c0fdd1a0",
   "metadata": {},
   "outputs": [],
   "source": [
    "df.head()"
   ]
  },
  {
   "cell_type": "code",
   "execution_count": null,
   "id": "78f84353",
   "metadata": {
    "scrolled": false
   },
   "outputs": [],
   "source": [
    "list(df.columns)"
   ]
  },
  {
   "cell_type": "code",
   "execution_count": null,
   "id": "9d15d838",
   "metadata": {},
   "outputs": [],
   "source": [
    "n=int(input())\n",
    "\n",
    "def arm(num):\n",
    "    if len(str(num)) == 3:\n",
    "        i = 3\n",
    "        sums = 0\n",
    "        while i > 0:\n",
    "            r = num%10\n",
    "            sums = sums + r**3\n",
    "            num = num//10\n",
    "            i -= 1\n",
    "    return sums\n",
    "        \n",
    "def main():\n",
    "    \n",
    "    if arm(n) == n:\n",
    "        print(\"True\")\n",
    "    else:\n",
    "        print(\"False\")\n",
    "        \n",
    "main()"
   ]
  },
  {
   "cell_type": "code",
   "execution_count": null,
   "id": "792e6420",
   "metadata": {},
   "outputs": [],
   "source": [
    "import pandas as pd \n",
    "df = pd.read_csv(\"https://media-doselect.s3.amazonaws.com/generic/8NMooe4G0ENEe8z9q5ZvaZA7/googleplaystore.csv\")\n",
    "#add your cleaning code here"
   ]
  },
  {
   "cell_type": "code",
   "execution_count": null,
   "id": "16f7024b",
   "metadata": {},
   "outputs": [],
   "source": [
    "df.head()"
   ]
  },
  {
   "cell_type": "code",
   "execution_count": null,
   "id": "806b0f00",
   "metadata": {},
   "outputs": [],
   "source": [
    "df[\"Installs\"]=\"Free\""
   ]
  },
  {
   "cell_type": "code",
   "execution_count": null,
   "id": "6d4d08d6",
   "metadata": {},
   "outputs": [],
   "source": [
    "df[\"Installs\"] = df[\"Installs\"].apply(lambda x: int(x.strip(\",'+\")))\n",
    "df.head()"
   ]
  },
  {
   "cell_type": "code",
   "execution_count": null,
   "id": "87676acb",
   "metadata": {},
   "outputs": [],
   "source": [
    "df[\"Installs\"].iloc[235]"
   ]
  },
  {
   "cell_type": "code",
   "execution_count": null,
   "id": "b9709123",
   "metadata": {},
   "outputs": [],
   "source": [
    "import pandas as pd\n",
    "wholesale = pd.read_csv('https://media-doselect.s3.amazonaws.com/generic/OkbnaOBqrBXZOpRQw1JGMgaM9/Wholesale_Data.csv')\n"
   ]
  },
  {
   "cell_type": "code",
   "execution_count": null,
   "id": "269c83bc",
   "metadata": {},
   "outputs": [],
   "source": [
    "wholesale[\"Channel\"].value_counts()"
   ]
  },
  {
   "cell_type": "code",
   "execution_count": null,
   "id": "9fc11fb0",
   "metadata": {},
   "outputs": [],
   "source": [
    "wholesale"
   ]
  },
  {
   "cell_type": "code",
   "execution_count": null,
   "id": "9b6224d4",
   "metadata": {},
   "outputs": [],
   "source": [
    "channel_mapping = {\n",
    "    r'^C.*': 'Cafe',\n",
    "    r'^H.*': 'Hotel',\n",
    "    r'^R.*': 'Restaurant'\n",
    "    }"
   ]
  },
  {
   "cell_type": "code",
   "execution_count": null,
   "id": "d06a808b",
   "metadata": {},
   "outputs": [],
   "source": [
    "wholesale[\"Channel\"] = wholesale[\"Channel\"].replace(channel_mapping, regex=True)\n",
    "\n",
    "print(wholesale['Channel'].value_counts())"
   ]
  },
  {
   "cell_type": "code",
   "execution_count": null,
   "id": "974ce5e4",
   "metadata": {},
   "outputs": [],
   "source": [
    "wholesale.value_counts().sum()"
   ]
  },
  {
   "cell_type": "code",
   "execution_count": null,
   "id": "557855ab",
   "metadata": {},
   "outputs": [],
   "source": [
    "df_by_channel = wholesale.groupby('Channel').sum()\n",
    "df_by_channel"
   ]
  },
  {
   "cell_type": "code",
   "execution_count": null,
   "id": "1ed08941",
   "metadata": {},
   "outputs": [],
   "source": [
    "min_sum = df_by_channel.loc[['Cafe', 'Hotel', 'Restaurant']].sum(axis=1).min()"
   ]
  },
  {
   "cell_type": "code",
   "execution_count": null,
   "id": "cdb5bbb4",
   "metadata": {},
   "outputs": [],
   "source": [
    "channel_with_least_sales = df_by_channel.sum(axis=1).idxmin()"
   ]
  },
  {
   "cell_type": "code",
   "execution_count": null,
   "id": "1db7443c",
   "metadata": {},
   "outputs": [],
   "source": [
    "channel_with_least_sales"
   ]
  },
  {
   "cell_type": "code",
   "execution_count": null,
   "id": "d537e566",
   "metadata": {},
   "outputs": [],
   "source": []
  }
 ],
 "metadata": {
  "kernelspec": {
   "display_name": "Python 3 (ipykernel)",
   "language": "python",
   "name": "python3"
  },
  "language_info": {
   "codemirror_mode": {
    "name": "ipython",
    "version": 3
   },
   "file_extension": ".py",
   "mimetype": "text/x-python",
   "name": "python",
   "nbconvert_exporter": "python",
   "pygments_lexer": "ipython3",
   "version": "3.11.5"
  }
 },
 "nbformat": 4,
 "nbformat_minor": 5
}
