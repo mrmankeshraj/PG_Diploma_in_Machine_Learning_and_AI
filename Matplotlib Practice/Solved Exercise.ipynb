{
 "cells": [
  {
   "cell_type": "markdown",
   "metadata": {
    "id": "WDBCfntK9k5C"
   },
   "source": [
    "<h1 style = \"color : Sky blue\"> Solved Questions Matplotlib</h1>\n",
    "\n",
    "As you learnt in the session, data visualisation is an essential skill for a data scientist to have. Charts and graphs are the easiest way to communicate data to different kinds of consumers. The assessments in this notebook will test your ability to represent information. The questions will be investigative and will not have detailed instructions about the execution; you will have to figure that part out yourself. Don't worry, there are no wrong answers here, only happy accidents. Try these questions on your own, to verify if you have done the task correctly, look at the solution as a person who does not know the data and is looking at it for the first time. You will be able to identify better ways to represent data automatically.  \n",
    "\n",
    "The dataset given for this notebook is the pricing data for diamonds based on the carat, cut, colour and so on. Take a look at the data below and also the data dictionary for a better understanding of the data and the attributes. "
   ]
  },
  {
   "cell_type": "code",
   "execution_count": null,
   "metadata": {
    "id": "VxvbaGGe9k5G"
   },
   "outputs": [],
   "source": [
    "# Import the necessary libraries\n",
    "\n",
    "import pandas as pd\n",
    "import numpy as np\n",
    "import matplotlib.pyplot as plt"
   ]
  },
  {
   "cell_type": "code",
   "execution_count": null,
   "metadata": {
    "id": "aTosCe9U9k54",
    "outputId": "6cc12a26-3b1b-4c7c-faa5-5ec9d50be2f5"
   },
   "outputs": [
    {
     "data": {
      "text/html": [
       "<div>\n",
       "<style scoped>\n",
       "    .dataframe tbody tr th:only-of-type {\n",
       "        vertical-align: middle;\n",
       "    }\n",
       "\n",
       "    .dataframe tbody tr th {\n",
       "        vertical-align: top;\n",
       "    }\n",
       "\n",
       "    .dataframe thead th {\n",
       "        text-align: right;\n",
       "    }\n",
       "</style>\n",
       "<table border=\"1\" class=\"dataframe\">\n",
       "  <thead>\n",
       "    <tr style=\"text-align: right;\">\n",
       "      <th></th>\n",
       "      <th>carat</th>\n",
       "      <th>cut</th>\n",
       "      <th>color</th>\n",
       "      <th>clarity</th>\n",
       "      <th>depth</th>\n",
       "      <th>table</th>\n",
       "      <th>price</th>\n",
       "      <th>x</th>\n",
       "      <th>y</th>\n",
       "      <th>z</th>\n",
       "    </tr>\n",
       "  </thead>\n",
       "  <tbody>\n",
       "    <tr>\n",
       "      <th>0</th>\n",
       "      <td>0.23</td>\n",
       "      <td>Ideal</td>\n",
       "      <td>E</td>\n",
       "      <td>SI2</td>\n",
       "      <td>61.5</td>\n",
       "      <td>55.0</td>\n",
       "      <td>326</td>\n",
       "      <td>3.95</td>\n",
       "      <td>3.98</td>\n",
       "      <td>2.43</td>\n",
       "    </tr>\n",
       "    <tr>\n",
       "      <th>1</th>\n",
       "      <td>0.21</td>\n",
       "      <td>Premium</td>\n",
       "      <td>E</td>\n",
       "      <td>SI1</td>\n",
       "      <td>59.8</td>\n",
       "      <td>61.0</td>\n",
       "      <td>326</td>\n",
       "      <td>3.89</td>\n",
       "      <td>3.84</td>\n",
       "      <td>2.31</td>\n",
       "    </tr>\n",
       "    <tr>\n",
       "      <th>2</th>\n",
       "      <td>0.23</td>\n",
       "      <td>Good</td>\n",
       "      <td>E</td>\n",
       "      <td>VS1</td>\n",
       "      <td>56.9</td>\n",
       "      <td>65.0</td>\n",
       "      <td>327</td>\n",
       "      <td>4.05</td>\n",
       "      <td>4.07</td>\n",
       "      <td>2.31</td>\n",
       "    </tr>\n",
       "    <tr>\n",
       "      <th>3</th>\n",
       "      <td>0.29</td>\n",
       "      <td>Premium</td>\n",
       "      <td>I</td>\n",
       "      <td>VS2</td>\n",
       "      <td>62.4</td>\n",
       "      <td>58.0</td>\n",
       "      <td>334</td>\n",
       "      <td>4.20</td>\n",
       "      <td>4.23</td>\n",
       "      <td>2.63</td>\n",
       "    </tr>\n",
       "    <tr>\n",
       "      <th>4</th>\n",
       "      <td>0.31</td>\n",
       "      <td>Good</td>\n",
       "      <td>J</td>\n",
       "      <td>SI2</td>\n",
       "      <td>63.3</td>\n",
       "      <td>58.0</td>\n",
       "      <td>335</td>\n",
       "      <td>4.34</td>\n",
       "      <td>4.35</td>\n",
       "      <td>2.75</td>\n",
       "    </tr>\n",
       "  </tbody>\n",
       "</table>\n",
       "</div>"
      ],
      "text/plain": [
       "   carat      cut color clarity  depth  table  price     x     y     z\n",
       "0   0.23    Ideal     E     SI2   61.5   55.0    326  3.95  3.98  2.43\n",
       "1   0.21  Premium     E     SI1   59.8   61.0    326  3.89  3.84  2.31\n",
       "2   0.23     Good     E     VS1   56.9   65.0    327  4.05  4.07  2.31\n",
       "3   0.29  Premium     I     VS2   62.4   58.0    334  4.20  4.23  2.63\n",
       "4   0.31     Good     J     SI2   63.3   58.0    335  4.34  4.35  2.75"
      ]
     },
     "execution_count": 2,
     "metadata": {
      "tags": []
     },
     "output_type": "execute_result"
    }
   ],
   "source": [
    "# Read the data into a dataframe\n",
    "data = pd.read_csv(\"diamonds.csv\", header = 0)\n",
    "\n",
    "# As a preparatory step, let's drop Unnamed column.\n",
    "data = data.drop(\"Unnamed: 0\", axis =1 )\n",
    "\n",
    "data.head()"
   ]
  },
  {
   "cell_type": "markdown",
   "metadata": {
    "id": "5aGDG2hb9k6J"
   },
   "source": [
    "### Data Dictionary: \n",
    "\n",
    "1. **carat**: Weight of the diamond (0.2--5.01)\n",
    "\n",
    "2.  **cut**: Quality of the cut (Fair, Good, Very Good, Premium, Ideal)\n",
    "\n",
    "3. **color**: Diamond colour, from J (worst) to D (best)\n",
    "\n",
    "4. **clarity**: A measurement of how clear the diamond is (I1 (worst), SI2, SI1, VS2, VS1, VVS2, VVS1, IF (best))\n",
    "\n",
    "5. **depth**: Total depth percentage = z / mean(x, y) = 2 * z / (x + y) (43--79)\n",
    "\n",
    "6. **table**: Width of top of diamond relative to widest point (43--95)\n",
    "\n",
    "7. **price**: Price in US dollars (326 dollars -18,823 dollars)\n",
    "\n",
    "8. **x**: Length in mm (0--10.74)\n",
    "\n",
    "9. **y**: Width in mm (0--58.9)\n",
    "\n",
    "10. **z**: Depth in mm (0--31.8)"
   ]
  },
  {
   "cell_type": "markdown",
   "metadata": {
    "id": "pFK-D_TX9k6L"
   },
   "source": [
    "<h3 style = \"color : Green\"> Question </h3>\n",
    "\n",
    "Plot a histogram chart to show the variation of depth of the diamond.\n",
    "\n",
    "<h5 style = \"color : Green\"> Solution </h5>\n",
    "\n",
    "Whenever you analyse a single variable, there are a finite number of things that can be checked. If the variable is a continuous variable like \"depth\", you can plot a histogram. When a histogram is plotted the complete range of data is split into smaller ranges called bins. A histogram shows the counts of readings in each bin.\n",
    "\n",
    "Fortunately, all this is done internally by python, and you do not have to worry about it. Now let's write the code for plotting a histogram. "
   ]
  },
  {
   "cell_type": "code",
   "execution_count": null,
   "metadata": {
    "id": "0cBwBQrc9k6N",
    "outputId": "657efd1f-737a-4c77-ebd8-52fcf0aa03cf",
    "scrolled": true
   },
   "outputs": [
    {
     "data": {
      "text/plain": [
       "(array([3.0000e+00, 0.0000e+00, 1.1000e+01, 2.6800e+02, 1.2078e+04,\n",
       "        4.0363e+04, 1.1320e+03, 7.8000e+01, 4.0000e+00, 3.0000e+00]),\n",
       " array([43. , 46.6, 50.2, 53.8, 57.4, 61. , 64.6, 68.2, 71.8, 75.4, 79. ]),\n",
       " <a list of 10 Patch objects>)"
      ]
     },
     "execution_count": 10,
     "metadata": {
      "tags": []
     },
     "output_type": "execute_result"
    },
    {
     "data": {
      "image/png": "[encoded data removed]",
      "text/plain": [
       "<Figure size 432x288 with 1 Axes>"
      ]
     },
     "metadata": {
      "needs_background": "light",
      "tags": []
     },
     "output_type": "display_data"
    }
   ],
   "source": [
    "plt.hist(data[\"depth\"])"
   ]
  },
  {
   "cell_type": "markdown",
   "metadata": {
    "id": "62PvFG3b9k6a"
   },
   "source": [
    "#### Note \n",
    "There is some metadata above the plot. If you dont want it, you can hide it by adding a plt.show() after the code.\n",
    "\n",
    "The plot is not very informative yet. You need to add axis labels and a title so that people can understand the contents of the plot. Let's make these changes and plot the same graph again.  "
   ]
  },
  {
   "cell_type": "code",
   "execution_count": null,
   "metadata": {
    "id": "pCYmyPU49k6c",
    "outputId": "d5af6887-c5b7-4d5a-dbb1-eb064a1872d2"
   },
   "outputs": [
    {
     "data": {
      "image/png": "[encoded data removed]",
      "text/plain": [
       "<Figure size 432x288 with 1 Axes>"
      ]
     },
     "metadata": {
      "needs_background": "light",
      "tags": []
     },
     "output_type": "display_data"
    }
   ],
   "source": [
    "plt.hist(data[\"depth\"])\n",
    "\n",
    "# Adding and formatting title\n",
    "plt.title(\"Frequency Plot: Depth of Diamonds\\n\", fontdict={'fontsize': 20, 'fontweight' : 20, 'color' : 'Green'})\n",
    "\n",
    "# Labeling Axes\n",
    "plt.xlabel(\"Depth of the diamond\", fontdict={'fontsize': 12, 'fontweight' : 20, 'color' : 'Brown'})\n",
    "plt.ylabel(\"Count\", fontdict={'fontsize': 12, 'fontweight' : 20, 'color' : 'Brown'})\n",
    "\n",
    "plt.show()"
   ]
  },
  {
   "cell_type": "markdown",
   "metadata": {
    "id": "NGdVOtLy9k6m"
   },
   "source": [
    "Not that the plot has all the necessary labels, let's concentrate on the plot itself. It doesn't convey the distribution the way it is. Currently, it looks like only a few bins have diamonds, and the others are empty. Such an imbalance has happened because the number of diamonds in other bins is minimal in comparison to the y-axis scale. \n",
    "\n",
    "One way to fix this is to have a log transformation on the y-axis. \n",
    "\n",
    "Also, let's increase the number of bins so that the plot conveys more detailed information. "
   ]
  },
  {
   "cell_type": "code",
   "execution_count": null,
   "metadata": {
    "id": "flyzpBoq9k6o",
    "outputId": "ce222ec0-c53d-4010-cc97-4d2bac2b6b55"
   },
   "outputs": [
    {
     "data": {
      "image/png": "[encoded data removed]",
      "text/plain": [
       "<Figure size 432x288 with 1 Axes>"
      ]
     },
     "metadata": {
      "needs_background": "light",
      "tags": []
     },
     "output_type": "display_data"
    }
   ],
   "source": [
    "plt.hist(data[\"depth\"], log = True, bins = 20)\n",
    "\n",
    "# Adding and formatting title\n",
    "plt.title(\"Frequency Plot: Depth of Diamonds\\n\", fontdict={'fontsize': 20, 'fontweight' : 20, 'color' : 'Green'})\n",
    "\n",
    "# Labeling Axes\n",
    "plt.xlabel(\"Depth of the diamond\", fontdict={'fontsize': 12, 'fontweight' : 20, 'color' : 'Brown'})\n",
    "plt.ylabel(\"Count\", fontdict={'fontsize': 12, 'fontweight' : 20, 'color' : 'Brown'})\n",
    "\n",
    "plt.show()"
   ]
  },
  {
   "cell_type": "markdown",
   "metadata": {
    "id": "zzchaYrI9k6y"
   },
   "source": [
    "Now you see there are a lot of diamonds in the categories which were not visible earlier. Not the distribution of diamonds is clearly understood. \n",
    "\n",
    "Whenever you plot any graph, try to create a graph which can answer all of these questions. \n",
    "1. Is the graph understandable? \n",
    "2. Does it convey the intended message? \n",
    "3. Are the relationships that are being displayed easy to visualise? \n",
    "\n",
    "If the answers to all these questions are \"yes\" then your plot is complete. "
   ]
  },
  {
   "cell_type": "markdown",
   "metadata": {
    "id": "22_F93Or9k63"
   },
   "source": [
    "<h3 style = \"color : Green\"> Question </h3>\n",
    "\n",
    "Plot a bar chart to show the number of observations in each clarity level. \n",
    "\n",
    "<h5 style = \"color : Green\"> Solution </h5>\n",
    "\n",
    "Try using the bar command to plot a bar chart to show the variation in clarity of various diamonds. "
   ]
  },
  {
   "cell_type": "code",
   "execution_count": null,
   "metadata": {
    "id": "1mj8AsGY9k65",
    "outputId": "014e19b7-03ea-49b8-cf1e-31baee881138"
   },
   "outputs": [
    {
     "ename": "TypeError",
     "evalue": "bar() missing 1 required positional argument: 'height'",
     "output_type": "error",
     "traceback": [
      "\u001b[1;31m---------------------------------------------------------------------------\u001b[0m",
      "\u001b[1;31mTypeError\u001b[0m                                 Traceback (most recent call last)",
      "\u001b[1;32m<ipython-input-14-110bd6c71ab7>\u001b[0m in \u001b[0;36m<module>\u001b[1;34m\u001b[0m\n\u001b[1;32m----> 1\u001b[1;33m \u001b[0mplt\u001b[0m\u001b[1;33m.\u001b[0m\u001b[0mbar\u001b[0m\u001b[1;33m(\u001b[0m\u001b[0mdata\u001b[0m\u001b[1;33m[\u001b[0m\u001b[1;34m\"clarity\"\u001b[0m\u001b[1;33m]\u001b[0m\u001b[1;33m)\u001b[0m\u001b[1;33m\u001b[0m\u001b[1;33m\u001b[0m\u001b[0m\n\u001b[0m",
      "\u001b[1;31mTypeError\u001b[0m: bar() missing 1 required positional argument: 'height'"
     ]
    }
   ],
   "source": [
    "plt.bar(data[\"clarity\"])"
   ]
  },
  {
   "cell_type": "markdown",
   "metadata": {
    "id": "yFP8oJ_89k7H"
   },
   "source": [
    "In the current form, the data is not ready for the bar command to be used directly. Lets first process the data."
   ]
  },
  {
   "cell_type": "code",
   "execution_count": null,
   "metadata": {
    "id": "kOFl8ddo9k7K",
    "outputId": "44014d2e-cfe8-40b8-f04f-c9a4b45dd75a"
   },
   "outputs": [
    {
     "data": {
      "text/html": [
       "<div>\n",
       "<style scoped>\n",
       "    .dataframe tbody tr th:only-of-type {\n",
       "        vertical-align: middle;\n",
       "    }\n",
       "\n",
       "    .dataframe tbody tr th {\n",
       "        vertical-align: top;\n",
       "    }\n",
       "\n",
       "    .dataframe thead th {\n",
       "        text-align: right;\n",
       "    }\n",
       "</style>\n",
       "<table border=\"1\" class=\"dataframe\">\n",
       "  <thead>\n",
       "    <tr style=\"text-align: right;\">\n",
       "      <th></th>\n",
       "      <th>carat</th>\n",
       "      <th>cut</th>\n",
       "      <th>color</th>\n",
       "      <th>depth</th>\n",
       "      <th>table</th>\n",
       "      <th>price</th>\n",
       "      <th>x</th>\n",
       "      <th>y</th>\n",
       "      <th>z</th>\n",
       "    </tr>\n",
       "    <tr>\n",
       "      <th>clarity</th>\n",
       "      <th></th>\n",
       "      <th></th>\n",
       "      <th></th>\n",
       "      <th></th>\n",
       "      <th></th>\n",
       "      <th></th>\n",
       "      <th></th>\n",
       "      <th></th>\n",
       "      <th></th>\n",
       "    </tr>\n",
       "  </thead>\n",
       "  <tbody>\n",
       "    <tr>\n",
       "      <th>I1</th>\n",
       "      <td>741</td>\n",
       "      <td>741</td>\n",
       "      <td>741</td>\n",
       "      <td>741</td>\n",
       "      <td>741</td>\n",
       "      <td>741</td>\n",
       "      <td>741</td>\n",
       "      <td>741</td>\n",
       "      <td>741</td>\n",
       "    </tr>\n",
       "    <tr>\n",
       "      <th>IF</th>\n",
       "      <td>1790</td>\n",
       "      <td>1790</td>\n",
       "      <td>1790</td>\n",
       "      <td>1790</td>\n",
       "      <td>1790</td>\n",
       "      <td>1790</td>\n",
       "      <td>1790</td>\n",
       "      <td>1790</td>\n",
       "      <td>1790</td>\n",
       "    </tr>\n",
       "    <tr>\n",
       "      <th>SI1</th>\n",
       "      <td>13065</td>\n",
       "      <td>13065</td>\n",
       "      <td>13065</td>\n",
       "      <td>13065</td>\n",
       "      <td>13065</td>\n",
       "      <td>13065</td>\n",
       "      <td>13065</td>\n",
       "      <td>13065</td>\n",
       "      <td>13065</td>\n",
       "    </tr>\n",
       "    <tr>\n",
       "      <th>SI2</th>\n",
       "      <td>9194</td>\n",
       "      <td>9194</td>\n",
       "      <td>9194</td>\n",
       "      <td>9194</td>\n",
       "      <td>9194</td>\n",
       "      <td>9194</td>\n",
       "      <td>9194</td>\n",
       "      <td>9194</td>\n",
       "      <td>9194</td>\n",
       "    </tr>\n",
       "    <tr>\n",
       "      <th>VS1</th>\n",
       "      <td>8171</td>\n",
       "      <td>8171</td>\n",
       "      <td>8171</td>\n",
       "      <td>8171</td>\n",
       "      <td>8171</td>\n",
       "      <td>8171</td>\n",
       "      <td>8171</td>\n",
       "      <td>8171</td>\n",
       "      <td>8171</td>\n",
       "    </tr>\n",
       "    <tr>\n",
       "      <th>VS2</th>\n",
       "      <td>12258</td>\n",
       "      <td>12258</td>\n",
       "      <td>12258</td>\n",
       "      <td>12258</td>\n",
       "      <td>12258</td>\n",
       "      <td>12258</td>\n",
       "      <td>12258</td>\n",
       "      <td>12258</td>\n",
       "      <td>12258</td>\n",
       "    </tr>\n",
       "    <tr>\n",
       "      <th>VVS1</th>\n",
       "      <td>3655</td>\n",
       "      <td>3655</td>\n",
       "      <td>3655</td>\n",
       "      <td>3655</td>\n",
       "      <td>3655</td>\n",
       "      <td>3655</td>\n",
       "      <td>3655</td>\n",
       "      <td>3655</td>\n",
       "      <td>3655</td>\n",
       "    </tr>\n",
       "    <tr>\n",
       "      <th>VVS2</th>\n",
       "      <td>5066</td>\n",
       "      <td>5066</td>\n",
       "      <td>5066</td>\n",
       "      <td>5066</td>\n",
       "      <td>5066</td>\n",
       "      <td>5066</td>\n",
       "      <td>5066</td>\n",
       "      <td>5066</td>\n",
       "      <td>5066</td>\n",
       "    </tr>\n",
       "  </tbody>\n",
       "</table>\n",
       "</div>"
      ],
      "text/plain": [
       "         carat    cut  color  depth  table  price      x      y      z\n",
       "clarity                                                               \n",
       "I1         741    741    741    741    741    741    741    741    741\n",
       "IF        1790   1790   1790   1790   1790   1790   1790   1790   1790\n",
       "SI1      13065  13065  13065  13065  13065  13065  13065  13065  13065\n",
       "SI2       9194   9194   9194   9194   9194   9194   9194   9194   9194\n",
       "VS1       8171   8171   8171   8171   8171   8171   8171   8171   8171\n",
       "VS2      12258  12258  12258  12258  12258  12258  12258  12258  12258\n",
       "VVS1      3655   3655   3655   3655   3655   3655   3655   3655   3655\n",
       "VVS2      5066   5066   5066   5066   5066   5066   5066   5066   5066"
      ]
     },
     "execution_count": 15,
     "metadata": {
      "tags": []
     },
     "output_type": "execute_result"
    }
   ],
   "source": [
    "group_clarity = data.groupby(\"clarity\").count()\n",
    "group_clarity"
   ]
  },
  {
   "cell_type": "markdown",
   "metadata": {
    "id": "yJ0hQU259k7X"
   },
   "source": [
    "Now that the data has been processed let's extract the necessary vales and labels from it."
   ]
  },
  {
   "cell_type": "code",
   "execution_count": null,
   "metadata": {
    "id": "T9JRXtcW9k7Y"
   },
   "outputs": [],
   "source": [
    "# Create lists which hold the necessary data\n",
    "x_vals = []\n",
    "y_vals = []\n",
    "for i in [0, 3, 2, 5, 4, 7, 6, 1]: \n",
    "    # This specified list will help in making sure that the quality of the cut is arranged in the increasing order.  \n",
    "    # This information can be gathered from the data dictionary.  \n",
    "    x_vals.append(group_clarity.index[i])\n",
    "    y_vals.append(group_clarity.iloc[i,0])"
   ]
  },
  {
   "cell_type": "markdown",
   "metadata": {
    "id": "wkklMxXZ9k7h"
   },
   "source": [
    "Let's observe the contents of x_vals and y_vals. "
   ]
  },
  {
   "cell_type": "code",
   "execution_count": null,
   "metadata": {
    "id": "uwzruCRp9k7j",
    "outputId": "8952308d-564b-4784-e0bb-5c407eeb2d30"
   },
   "outputs": [
    {
     "name": "stdout",
     "output_type": "stream",
     "text": [
      "['I1', 'SI2', 'SI1', 'VS2', 'VS1', 'VVS2', 'VVS1', 'IF']\n",
      "[741, 9194, 13065, 12258, 8171, 5066, 3655, 1790]\n"
     ]
    }
   ],
   "source": [
    "print (x_vals)\n",
    "print (y_vals)\n"
   ]
  },
  {
   "cell_type": "code",
   "execution_count": null,
   "metadata": {
    "id": "YuzIpALM9k7s",
    "outputId": "b095bcf0-4f08-4afa-cd7d-aaf32e8e9d25",
    "scrolled": true
   },
   "outputs": [
    {
     "data": {
      "image/png": "[encoded data removed]",
      "text/plain": [
       "<Figure size 432x288 with 1 Axes>"
      ]
     },
     "metadata": {
      "needs_background": "light",
      "tags": []
     },
     "output_type": "display_data"
    }
   ],
   "source": [
    "# Now you can use the bar command to print the created plot. \n",
    "\n",
    "\n",
    "plt.bar(x_vals, y_vals)\n",
    "\n",
    "# Adding and formatting title\n",
    "plt.title(\"Frequency Plot: Clarity of Diamonds\\n\", fontdict={'fontsize': 20, 'fontweight' : \"bold\", 'color' : 'Green'})\n",
    "\n",
    "# Labeling Axes\n",
    "plt.xlabel(\"Clarity\", fontdict={'fontsize': 12, 'fontweight' : \"bold\", 'color' : 'Brown'})\n",
    "plt.ylabel(\"Count\", fontdict={'fontsize': 12, 'fontweight' : \"bold\", 'color' : 'Brown'})\n",
    "\n",
    "plt.show()\n"
   ]
  },
  {
   "cell_type": "markdown",
   "metadata": {
    "id": "D8Jm_mqF9k71"
   },
   "source": [
    "<h3 style = \"color : Green\"> Question </h3>\n",
    "\n",
    "In the plot above, add data labels for each of the bars. \n",
    "\n",
    "<h5 style = \"color : Green\"> Solution  </h5>\n",
    "\n",
    "Although the question seems a straightforward task to accomplish, it is quite complex to execute. \n",
    "\n",
    "Let's divide the process of adding data labels into three parts. \n",
    "\n",
    "1. Extracting the value that needs to be displayed\n",
    "2. Printing the extracted value in the right location for one value\n",
    "3. Repeating the above step for all the needed labels.\n"
   ]
  },
  {
   "cell_type": "code",
   "execution_count": null,
   "metadata": {
    "id": "yKVfrAr39k73",
    "outputId": "85e0e972-a579-46a0-f1fe-7054cb0d1977"
   },
   "outputs": [
    {
     "data": {
      "text/plain": [
       "matplotlib.container.BarContainer"
      ]
     },
     "execution_count": 27,
     "metadata": {
      "tags": []
     },
     "output_type": "execute_result"
    },
    {
     "data": {
      "image/png": "[encoded data removed]",
      "text/plain": [
       "<Figure size 432x288 with 1 Axes>"
      ]
     },
     "metadata": {
      "needs_background": "light",
      "tags": []
     },
     "output_type": "display_data"
    }
   ],
   "source": [
    "chart = plt.bar(x_vals, y_vals)\n",
    "\n",
    "type(chart)"
   ]
  },
  {
   "cell_type": "markdown",
   "metadata": {
    "id": "nRjedqUg9k8A"
   },
   "source": [
    "```matplotlib.container.BarContainer``` is the data type of the bar chart, it an iterable object with the individual bars as the elements. You can access each of the bars (or rectangles) using a for loop. "
   ]
  },
  {
   "cell_type": "code",
   "execution_count": null,
   "metadata": {
    "id": "xCdGoR6K9k8C",
    "outputId": "b78a8873-35b0-41a4-8b59-e40f0a94e479"
   },
   "outputs": [
    {
     "name": "stdout",
     "output_type": "stream",
     "text": [
      "741\n",
      "9194\n",
      "13065\n",
      "12258\n",
      "8171\n",
      "5066\n",
      "3655\n",
      "1790\n"
     ]
    }
   ],
   "source": [
    "for rect in chart:\n",
    "    height = rect.get_height()\n",
    "    print (height)"
   ]
  },
  {
   "cell_type": "markdown",
   "metadata": {
    "id": "lX9QxeX19k8N"
   },
   "source": [
    "These values are the heights of each of the bars in the plot. But you have all these values already, then why do we need to do this? Yes, you have all the values so you can use them directly. In future, if you need to find them out, you can use the ```get_height()```. \n",
    "\n",
    "Now the next step is to add these values to plot. To show the values on the plot, use the ```annotate()```. In the code below, you will see its usage. "
   ]
  },
  {
   "cell_type": "code",
   "execution_count": null,
   "metadata": {
    "id": "NPRsPmvK9k8O",
    "outputId": "8025f52c-ac35-4d9e-9ad9-bc157d025502"
   },
   "outputs": [
    {
     "data": {
      "image/png": "[encoded data removed]",
      "text/plain": [
       "<Figure size 432x288 with 1 Axes>"
      ]
     },
     "metadata": {
      "needs_background": "light",
      "tags": []
     },
     "output_type": "display_data"
    }
   ],
   "source": [
    "# Now you can use the bar command to print the created plot. \n",
    "\n",
    "\n",
    "plt.bar(x_vals, y_vals)\n",
    "\n",
    "# Adding and formatting title\n",
    "plt.title(\"Frequency Plot: Clarity of Diamonds\\n\", fontdict={'fontsize': 20, 'fontweight' : \"bold\", 'color' : 'Green'})\n",
    "\n",
    "# Labeling Axes\n",
    "plt.xlabel(\"Clarity\", fontdict={'fontsize': 12, 'fontweight' : \"bold\", 'color' : 'Brown'})\n",
    "plt.ylabel(\"Count\", fontdict={'fontsize': 12, 'fontweight' : \"bold\", 'color' : 'Brown'})\n",
    "\n",
    "for rect in chart:\n",
    "    height = rect.get_height()\n",
    "    plt.annotate(height,  # the text to print \n",
    "                 xy=(rect.get_x(), height)) # the location where the ext needs to appear. \n",
    "    \n",
    "plt.show()"
   ]
  },
  {
   "cell_type": "markdown",
   "metadata": {
    "id": "-yfBkWmC9k8X"
   },
   "source": [
    "The arguments to the ```annotate()``` are\n",
    "\n",
    "1. The text to be printed\n",
    "2. The location of the text\n",
    "\n",
    "The ```get_x()``` function extracts the x coordinate from each of the bar objects. We used this function to locate the position of each text.\n",
    "In the plot above, although you can see the data labels, they are not formatted correctly. There needs to be some gap in the bar and text. Let's format the text so that it looks better."
   ]
  },
  {
   "cell_type": "code",
   "execution_count": null,
   "metadata": {
    "id": "QkFkYjR39k8Y",
    "outputId": "e288d79f-ad30-40e7-e206-e92291191d4a",
    "scrolled": false
   },
   "outputs": [
    {
     "data": {
      "image/png": "[encoded data removed]",
      "text/plain": [
       "<Figure size 432x360 with 1 Axes>"
      ]
     },
     "metadata": {
      "needs_background": "light",
      "tags": []
     },
     "output_type": "display_data"
    }
   ],
   "source": [
    "plt.figure(figsize=(6, 5)) # adjust the size of the plot. \n",
    "\n",
    "chart = plt.bar(x_vals, y_vals)\n",
    "\n",
    "# Adding and formatting title\n",
    "plt.title(\"Frequency Plot: Clarity of Diamonds\\n\", fontdict={'fontsize': 20, 'fontweight' : \"bold\", 'color' : 'Green'})\n",
    "\n",
    "# Labeling Axes\n",
    "plt.xlabel(\"Clarity\", fontdict={'fontsize': 12, 'fontweight' : \"bold\", 'color' : 'Brown'})\n",
    "plt.ylabel(\"Count\", fontdict={'fontsize': 12, 'fontweight' : \"bold\", 'color' : 'Brown'})\n",
    "\n",
    "for rect in chart:\n",
    "    height = rect.get_height()\n",
    "    plt.annotate('{}'.format(height),\n",
    "                    xy=(rect.get_x() + rect.get_width() / 2, height),\n",
    "                    xytext=(0, 1),  # 2 points vertical offset\n",
    "                    textcoords=\"offset points\", # Argument ued to set the origin for the xytext argument. \n",
    "                    ha='center', va='bottom') # Alignments in horiaontal and vertical axis \n",
    "    \n",
    "\n",
    "        \n",
    "plt.show()"
   ]
  },
  {
   "cell_type": "markdown",
   "metadata": {
    "id": "yM3_7Kdb9k8h"
   },
   "source": [
    "You can read about the arguments used in the command above [here](https://matplotlib.org/3.3.2/api/_as_gen/matplotlib.pyplot.annotate.html) \n",
    "\n",
    "You can play around with these arguments to get the kind of plot that you want. "
   ]
  },
  {
   "cell_type": "markdown",
   "metadata": {
    "id": "FIsG59x29k8j"
   },
   "source": [
    "<h3 style = \"color : Green\"> Question </h3>\n",
    "\n",
    "In the same graph as above, add a second set of bars depicting the mean price for each cut \n",
    "\n",
    "<h5 style = \"color : Green\"> Solution  </h5>\n",
    "\n",
    "Adding more information to the plot will make it more complicated. Let's start by getting the values needed to plot."
   ]
  },
  {
   "cell_type": "code",
   "execution_count": null,
   "metadata": {
    "id": "l_TtH51l9k8l"
   },
   "outputs": [],
   "source": [
    "group_clarity_mean = data.groupby(\"clarity\").mean()\n",
    "\n",
    "# Create lists which hold the necessary data\n",
    "y_p_vals = []\n",
    "for i in [0, 3, 2, 5, 4, 7, 6, 1]:  \n",
    "    y_p_vals.append(group_clarity_mean.iloc[i,3])"
   ]
  },
  {
   "cell_type": "code",
   "execution_count": null,
   "metadata": {
    "id": "5O4waFFh9k80",
    "outputId": "0b255b88-246d-43c3-89c7-79311098c519"
   },
   "outputs": [
    {
     "data": {
      "text/plain": [
       "[3924.1686909581645,\n",
       " 5063.028605612356,\n",
       " 3996.001148105626,\n",
       " 3924.989394681025,\n",
       " 3839.4553910170116,\n",
       " 3283.737070667193,\n",
       " 2523.1146374829,\n",
       " 2864.839106145251]"
      ]
     },
     "execution_count": 46,
     "metadata": {
      "tags": []
     },
     "output_type": "execute_result"
    }
   ],
   "source": [
    "# check the values in the list \n",
    "y_p_vals"
   ]
  },
  {
   "cell_type": "code",
   "execution_count": null,
   "metadata": {
    "id": "1Lqg8Cu09k89",
    "outputId": "0a2d12d4-1b24-4574-faed-d29b3dcb2910",
    "scrolled": true
   },
   "outputs": [
    {
     "data": {
      "text/plain": [
       "[3924.0, 5063.0, 3996.0, 3925.0, 3839.0, 3284.0, 2523.0, 2865.0]"
      ]
     },
     "execution_count": 50,
     "metadata": {
      "tags": []
     },
     "output_type": "execute_result"
    }
   ],
   "source": [
    "# rounding the numbers to nearest integers \n",
    "y_p_vals = [round(num) for num in y_p_vals]\n",
    "\n",
    "y_p_vals"
   ]
  },
  {
   "cell_type": "markdown",
   "metadata": {
    "id": "yI3VWtD79k9F"
   },
   "source": [
    "Now that you have the values right values let's try to plot a combined graph. You need to use ```subplot()```"
   ]
  },
  {
   "cell_type": "code",
   "execution_count": null,
   "metadata": {
    "id": "QTiRD9vo9k9H",
    "outputId": "6b5a284a-acce-45c5-e21b-53508b28ced5"
   },
   "outputs": [
    {
     "data": {
      "image/png": "[encoded data removed]",
      "text/plain": [
       "<Figure size 432x288 with 1 Axes>"
      ]
     },
     "metadata": {
      "needs_background": "light",
      "tags": []
     },
     "output_type": "display_data"
    }
   ],
   "source": [
    "fig, ax = plt.subplots()\n",
    "chart1 = ax.bar( x_vals, y_vals,  label='Count')\n",
    "chart2 = ax.bar( x_vals, y_p_vals,  label='Mean Price')\n",
    "\n",
    "plt.show()"
   ]
  },
  {
   "cell_type": "markdown",
   "metadata": {
    "id": "LtXMUYkF9k9Q"
   },
   "source": [
    "In this not the result you were expecting right. The overlapping of bars has happened because no information was given to the plt about to print the bars in different locations (or offsetting the bars)\n",
    "\n",
    "Offsetting bars so that they appear side by side is a complex action. The following code performs it in one go. Please take your time to understand the function of each line. "
   ]
  },
  {
   "cell_type": "code",
   "execution_count": null,
   "metadata": {
    "id": "WM-3uBDO9k9R",
    "outputId": "75c532ec-f4d3-4607-9b1d-5e2c649b09c5"
   },
   "outputs": [
    {
     "data": {
      "image/png": "[encoded data removed]",
      "text/plain": [
       "<Figure size 432x288 with 1 Axes>"
      ]
     },
     "metadata": {
      "needs_background": "light",
      "tags": []
     },
     "output_type": "display_data"
    }
   ],
   "source": [
    "\n",
    "x = np.arange(len(x_vals))  # the label locations will be (1,2,3 so on)\n",
    "width = 0.35  # the width of the bars (current distance in each tick will be 1. Anything above 0.5 will make the bars overlap)\n",
    "\n",
    "fig, ax = plt.subplots() # declating a subplot object\n",
    "chart1 = ax.bar(x - width/2, y_vals, width, label='Count') # plotiing the blue bars. The first agrument is for \n",
    "                                                           # off setting the bars. \n",
    "chart2 = ax.bar(x + width/2, y_p_vals, width, label='Mean Price') # plotting the orange bars\n",
    "                                                                  # note the differnece in the first argument\n",
    "                                                                  # This causes the bars to print on different locations\n",
    "\n",
    "# Adding and formatting title\n",
    "plt.title(\"Clarity of Diamonds VS Count and Mean Price\\n\", fontdict={'fontsize': 14, 'fontweight' : \"bold\", 'color' : 'Green'})\n",
    "\n",
    "# Labeling Axes\n",
    "plt.xlabel(\"Clarity\", fontdict={'fontsize': 12, 'fontweight' : \"bold\", 'color' : 'Brown'})\n",
    "\n",
    "#Replacing neumerical lables with cut types. \n",
    "ax.set_xticks(x)\n",
    "ax.set_xticklabels(x_vals)\n",
    "\n",
    "ax.legend() # Printing the legend\n",
    "plt.show()"
   ]
  },
  {
   "cell_type": "markdown",
   "metadata": {
    "id": "w7BUQN4m9k9a"
   },
   "source": [
    "The way shown above might seem unnecessarily lengthy to you. Here, we would encourage you to try to make this code more concise and remove unnecessary complications if you see any. "
   ]
  },
  {
   "cell_type": "code",
   "execution_count": null,
   "metadata": {
    "id": "PaS_cDq_9k9c",
    "outputId": "d0221814-f045-4212-e2b8-008a80815c29"
   },
   "outputs": [
    {
     "data": {
      "image/png": "[encoded data removed]",
      "text/plain": [
       "<Figure size 432x288 with 1 Axes>"
      ]
     },
     "metadata": {
      "needs_background": "light",
      "tags": []
     },
     "output_type": "display_data"
    }
   ],
   "source": [
    "# Create the combined plot  \n",
    "\n",
    "\n",
    "x = np.arange(len(x_vals))  # the label locations\n",
    "width = 0.35  # the width of the bars\n",
    "\n",
    "fig, ax = plt.subplots()\n",
    "chart1 = ax.bar(x - width/2, y_vals, width, label='Count')\n",
    "chart2 = ax.bar(x + width/2, y_p_vals, width, label='Mean Price')\n",
    "\n",
    "# Adding and formatting title\n",
    "plt.title(\"Clarity of Diamonds VS Count and Mean Price\\n\", fontdict={'fontsize': 14, 'fontweight' : \"bold\", 'color' : 'Green'})\n",
    "\n",
    "# Labeling Axes\n",
    "plt.xlabel(\"Clarity\", fontdict={'fontsize': 12, 'fontweight' : \"bold\", 'color' : 'Brown'})\n",
    "\n",
    "ax.set_xticks(x)\n",
    "ax.set_xticklabels(x_vals)\n",
    "\n",
    "    \n",
    "ax.legend()\n",
    "plt.show()"
   ]
  },
  {
   "cell_type": "markdown",
   "metadata": {
    "id": "dW32B83D9k9k"
   },
   "source": [
    "<h3 style = \"color : Green\"> Question </h3>\n",
    "\n",
    "Plot side by side bar charts: first for mean price per carat categorised by clarity and the second for mean price per carat organised by color. \n",
    "\n",
    "<h5 style = \"color : Green\"> Solution  </h5>\n",
    "\n",
    "Before plotting the two charts, You first need to find the required data. In the code below, you can find the necessary data manipulations."
   ]
  },
  {
   "cell_type": "code",
   "execution_count": null,
   "metadata": {
    "id": "D9DJIJP59k9m"
   },
   "outputs": [],
   "source": [
    "data[\"price/carat\"] = data[\"price\"]/data[\"carat\"]"
   ]
  },
  {
   "cell_type": "code",
   "execution_count": null,
   "metadata": {
    "id": "P5NezxY29k9w",
    "outputId": "5cd65dc9-58c6-4da4-8709-13c3f7f7fb13",
    "scrolled": true
   },
   "outputs": [
    {
     "data": {
      "text/html": [
       "<div>\n",
       "<style scoped>\n",
       "    .dataframe tbody tr th:only-of-type {\n",
       "        vertical-align: middle;\n",
       "    }\n",
       "\n",
       "    .dataframe tbody tr th {\n",
       "        vertical-align: top;\n",
       "    }\n",
       "\n",
       "    .dataframe thead th {\n",
       "        text-align: right;\n",
       "    }\n",
       "</style>\n",
       "<table border=\"1\" class=\"dataframe\">\n",
       "  <thead>\n",
       "    <tr style=\"text-align: right;\">\n",
       "      <th></th>\n",
       "      <th>carat</th>\n",
       "      <th>cut</th>\n",
       "      <th>color</th>\n",
       "      <th>clarity</th>\n",
       "      <th>depth</th>\n",
       "      <th>table</th>\n",
       "      <th>price</th>\n",
       "      <th>x</th>\n",
       "      <th>y</th>\n",
       "      <th>z</th>\n",
       "      <th>rice/carat</th>\n",
       "      <th>price/carat</th>\n",
       "    </tr>\n",
       "  </thead>\n",
       "  <tbody>\n",
       "    <tr>\n",
       "      <th>0</th>\n",
       "      <td>0.23</td>\n",
       "      <td>Ideal</td>\n",
       "      <td>E</td>\n",
       "      <td>SI2</td>\n",
       "      <td>61.5</td>\n",
       "      <td>55.0</td>\n",
       "      <td>326</td>\n",
       "      <td>3.95</td>\n",
       "      <td>3.98</td>\n",
       "      <td>2.43</td>\n",
       "      <td>1417.391304</td>\n",
       "      <td>1417.391304</td>\n",
       "    </tr>\n",
       "    <tr>\n",
       "      <th>1</th>\n",
       "      <td>0.21</td>\n",
       "      <td>Premium</td>\n",
       "      <td>E</td>\n",
       "      <td>SI1</td>\n",
       "      <td>59.8</td>\n",
       "      <td>61.0</td>\n",
       "      <td>326</td>\n",
       "      <td>3.89</td>\n",
       "      <td>3.84</td>\n",
       "      <td>2.31</td>\n",
       "      <td>1552.380952</td>\n",
       "      <td>1552.380952</td>\n",
       "    </tr>\n",
       "    <tr>\n",
       "      <th>2</th>\n",
       "      <td>0.23</td>\n",
       "      <td>Good</td>\n",
       "      <td>E</td>\n",
       "      <td>VS1</td>\n",
       "      <td>56.9</td>\n",
       "      <td>65.0</td>\n",
       "      <td>327</td>\n",
       "      <td>4.05</td>\n",
       "      <td>4.07</td>\n",
       "      <td>2.31</td>\n",
       "      <td>1421.739130</td>\n",
       "      <td>1421.739130</td>\n",
       "    </tr>\n",
       "    <tr>\n",
       "      <th>3</th>\n",
       "      <td>0.29</td>\n",
       "      <td>Premium</td>\n",
       "      <td>I</td>\n",
       "      <td>VS2</td>\n",
       "      <td>62.4</td>\n",
       "      <td>58.0</td>\n",
       "      <td>334</td>\n",
       "      <td>4.20</td>\n",
       "      <td>4.23</td>\n",
       "      <td>2.63</td>\n",
       "      <td>1151.724138</td>\n",
       "      <td>1151.724138</td>\n",
       "    </tr>\n",
       "    <tr>\n",
       "      <th>4</th>\n",
       "      <td>0.31</td>\n",
       "      <td>Good</td>\n",
       "      <td>J</td>\n",
       "      <td>SI2</td>\n",
       "      <td>63.3</td>\n",
       "      <td>58.0</td>\n",
       "      <td>335</td>\n",
       "      <td>4.34</td>\n",
       "      <td>4.35</td>\n",
       "      <td>2.75</td>\n",
       "      <td>1080.645161</td>\n",
       "      <td>1080.645161</td>\n",
       "    </tr>\n",
       "  </tbody>\n",
       "</table>\n",
       "</div>"
      ],
      "text/plain": [
       "   carat      cut color clarity  depth  table  price     x     y     z  \\\n",
       "0   0.23    Ideal     E     SI2   61.5   55.0    326  3.95  3.98  2.43   \n",
       "1   0.21  Premium     E     SI1   59.8   61.0    326  3.89  3.84  2.31   \n",
       "2   0.23     Good     E     VS1   56.9   65.0    327  4.05  4.07  2.31   \n",
       "3   0.29  Premium     I     VS2   62.4   58.0    334  4.20  4.23  2.63   \n",
       "4   0.31     Good     J     SI2   63.3   58.0    335  4.34  4.35  2.75   \n",
       "\n",
       "    rice/carat  price/carat  \n",
       "0  1417.391304  1417.391304  \n",
       "1  1552.380952  1552.380952  \n",
       "2  1421.739130  1421.739130  \n",
       "3  1151.724138  1151.724138  \n",
       "4  1080.645161  1080.645161  "
      ]
     },
     "execution_count": 91,
     "metadata": {
      "tags": []
     },
     "output_type": "execute_result"
    }
   ],
   "source": [
    "data.head()"
   ]
  },
  {
   "cell_type": "code",
   "execution_count": null,
   "metadata": {
    "id": "rMJVxwSq9k96",
    "outputId": "80441400-a384-483b-b18f-f61693149da0"
   },
   "outputs": [
    {
     "data": {
      "text/html": [
       "<div>\n",
       "<style scoped>\n",
       "    .dataframe tbody tr th:only-of-type {\n",
       "        vertical-align: middle;\n",
       "    }\n",
       "\n",
       "    .dataframe tbody tr th {\n",
       "        vertical-align: top;\n",
       "    }\n",
       "\n",
       "    .dataframe thead th {\n",
       "        text-align: right;\n",
       "    }\n",
       "</style>\n",
       "<table border=\"1\" class=\"dataframe\">\n",
       "  <thead>\n",
       "    <tr style=\"text-align: right;\">\n",
       "      <th></th>\n",
       "      <th>carat</th>\n",
       "      <th>cut</th>\n",
       "      <th>color</th>\n",
       "      <th>clarity</th>\n",
       "      <th>depth</th>\n",
       "      <th>table</th>\n",
       "      <th>price</th>\n",
       "      <th>x</th>\n",
       "      <th>y</th>\n",
       "      <th>z</th>\n",
       "      <th>price/carat</th>\n",
       "    </tr>\n",
       "  </thead>\n",
       "  <tbody>\n",
       "    <tr>\n",
       "      <th>0</th>\n",
       "      <td>0.23</td>\n",
       "      <td>Ideal</td>\n",
       "      <td>E</td>\n",
       "      <td>SI2</td>\n",
       "      <td>61.5</td>\n",
       "      <td>55.0</td>\n",
       "      <td>326</td>\n",
       "      <td>3.95</td>\n",
       "      <td>3.98</td>\n",
       "      <td>2.43</td>\n",
       "      <td>1417.391304</td>\n",
       "    </tr>\n",
       "    <tr>\n",
       "      <th>1</th>\n",
       "      <td>0.21</td>\n",
       "      <td>Premium</td>\n",
       "      <td>E</td>\n",
       "      <td>SI1</td>\n",
       "      <td>59.8</td>\n",
       "      <td>61.0</td>\n",
       "      <td>326</td>\n",
       "      <td>3.89</td>\n",
       "      <td>3.84</td>\n",
       "      <td>2.31</td>\n",
       "      <td>1552.380952</td>\n",
       "    </tr>\n",
       "    <tr>\n",
       "      <th>2</th>\n",
       "      <td>0.23</td>\n",
       "      <td>Good</td>\n",
       "      <td>E</td>\n",
       "      <td>VS1</td>\n",
       "      <td>56.9</td>\n",
       "      <td>65.0</td>\n",
       "      <td>327</td>\n",
       "      <td>4.05</td>\n",
       "      <td>4.07</td>\n",
       "      <td>2.31</td>\n",
       "      <td>1421.739130</td>\n",
       "    </tr>\n",
       "    <tr>\n",
       "      <th>3</th>\n",
       "      <td>0.29</td>\n",
       "      <td>Premium</td>\n",
       "      <td>I</td>\n",
       "      <td>VS2</td>\n",
       "      <td>62.4</td>\n",
       "      <td>58.0</td>\n",
       "      <td>334</td>\n",
       "      <td>4.20</td>\n",
       "      <td>4.23</td>\n",
       "      <td>2.63</td>\n",
       "      <td>1151.724138</td>\n",
       "    </tr>\n",
       "    <tr>\n",
       "      <th>4</th>\n",
       "      <td>0.31</td>\n",
       "      <td>Good</td>\n",
       "      <td>J</td>\n",
       "      <td>SI2</td>\n",
       "      <td>63.3</td>\n",
       "      <td>58.0</td>\n",
       "      <td>335</td>\n",
       "      <td>4.34</td>\n",
       "      <td>4.35</td>\n",
       "      <td>2.75</td>\n",
       "      <td>1080.645161</td>\n",
       "    </tr>\n",
       "  </tbody>\n",
       "</table>\n",
       "</div>"
      ],
      "text/plain": [
       "   carat      cut color clarity  depth  table  price     x     y     z  \\\n",
       "0   0.23    Ideal     E     SI2   61.5   55.0    326  3.95  3.98  2.43   \n",
       "1   0.21  Premium     E     SI1   59.8   61.0    326  3.89  3.84  2.31   \n",
       "2   0.23     Good     E     VS1   56.9   65.0    327  4.05  4.07  2.31   \n",
       "3   0.29  Premium     I     VS2   62.4   58.0    334  4.20  4.23  2.63   \n",
       "4   0.31     Good     J     SI2   63.3   58.0    335  4.34  4.35  2.75   \n",
       "\n",
       "   price/carat  \n",
       "0  1417.391304  \n",
       "1  1552.380952  \n",
       "2  1421.739130  \n",
       "3  1151.724138  \n",
       "4  1080.645161  "
      ]
     },
     "execution_count": 96,
     "metadata": {
      "tags": []
     },
     "output_type": "execute_result"
    }
   ],
   "source": [
    "data.head()"
   ]
  },
  {
   "cell_type": "code",
   "execution_count": null,
   "metadata": {
    "id": "JgQFg6wy9k-D",
    "outputId": "85a8506b-5f98-4a1b-bffc-091addca250c"
   },
   "outputs": [
    {
     "data": {
      "text/html": [
       "<div>\n",
       "<style scoped>\n",
       "    .dataframe tbody tr th:only-of-type {\n",
       "        vertical-align: middle;\n",
       "    }\n",
       "\n",
       "    .dataframe tbody tr th {\n",
       "        vertical-align: top;\n",
       "    }\n",
       "\n",
       "    .dataframe thead th {\n",
       "        text-align: right;\n",
       "    }\n",
       "</style>\n",
       "<table border=\"1\" class=\"dataframe\">\n",
       "  <thead>\n",
       "    <tr style=\"text-align: right;\">\n",
       "      <th></th>\n",
       "      <th>carat</th>\n",
       "      <th>depth</th>\n",
       "      <th>table</th>\n",
       "      <th>price</th>\n",
       "      <th>x</th>\n",
       "      <th>y</th>\n",
       "      <th>z</th>\n",
       "      <th>price/carat</th>\n",
       "    </tr>\n",
       "    <tr>\n",
       "      <th>clarity</th>\n",
       "      <th></th>\n",
       "      <th></th>\n",
       "      <th></th>\n",
       "      <th></th>\n",
       "      <th></th>\n",
       "      <th></th>\n",
       "      <th></th>\n",
       "      <th></th>\n",
       "    </tr>\n",
       "  </thead>\n",
       "  <tbody>\n",
       "    <tr>\n",
       "      <th>I1</th>\n",
       "      <td>1.283846</td>\n",
       "      <td>62.734278</td>\n",
       "      <td>58.303779</td>\n",
       "      <td>3924.168691</td>\n",
       "      <td>6.761093</td>\n",
       "      <td>6.709379</td>\n",
       "      <td>4.207908</td>\n",
       "      <td>2796.296437</td>\n",
       "    </tr>\n",
       "    <tr>\n",
       "      <th>IF</th>\n",
       "      <td>0.505123</td>\n",
       "      <td>61.510615</td>\n",
       "      <td>56.507207</td>\n",
       "      <td>2864.839106</td>\n",
       "      <td>4.968402</td>\n",
       "      <td>4.989827</td>\n",
       "      <td>3.061659</td>\n",
       "      <td>4259.931736</td>\n",
       "    </tr>\n",
       "    <tr>\n",
       "      <th>SI1</th>\n",
       "      <td>0.850482</td>\n",
       "      <td>61.853042</td>\n",
       "      <td>57.662541</td>\n",
       "      <td>3996.001148</td>\n",
       "      <td>5.888383</td>\n",
       "      <td>5.888256</td>\n",
       "      <td>3.639845</td>\n",
       "      <td>3849.078018</td>\n",
       "    </tr>\n",
       "    <tr>\n",
       "      <th>SI2</th>\n",
       "      <td>1.077648</td>\n",
       "      <td>61.772167</td>\n",
       "      <td>57.927181</td>\n",
       "      <td>5063.028606</td>\n",
       "      <td>6.401370</td>\n",
       "      <td>6.397826</td>\n",
       "      <td>3.948478</td>\n",
       "      <td>4010.853865</td>\n",
       "    </tr>\n",
       "    <tr>\n",
       "      <th>VS1</th>\n",
       "      <td>0.727158</td>\n",
       "      <td>61.667458</td>\n",
       "      <td>57.315151</td>\n",
       "      <td>3839.455391</td>\n",
       "      <td>5.572178</td>\n",
       "      <td>5.581828</td>\n",
       "      <td>3.441007</td>\n",
       "      <td>4155.816808</td>\n",
       "    </tr>\n",
       "    <tr>\n",
       "      <th>VS2</th>\n",
       "      <td>0.763935</td>\n",
       "      <td>61.724417</td>\n",
       "      <td>57.417401</td>\n",
       "      <td>3924.989395</td>\n",
       "      <td>5.657709</td>\n",
       "      <td>5.658859</td>\n",
       "      <td>3.491478</td>\n",
       "      <td>4080.526787</td>\n",
       "    </tr>\n",
       "    <tr>\n",
       "      <th>VVS1</th>\n",
       "      <td>0.503321</td>\n",
       "      <td>61.624651</td>\n",
       "      <td>56.884460</td>\n",
       "      <td>2523.114637</td>\n",
       "      <td>4.960364</td>\n",
       "      <td>4.975075</td>\n",
       "      <td>3.061294</td>\n",
       "      <td>3851.410558</td>\n",
       "    </tr>\n",
       "    <tr>\n",
       "      <th>VVS2</th>\n",
       "      <td>0.596202</td>\n",
       "      <td>61.663778</td>\n",
       "      <td>57.024990</td>\n",
       "      <td>3283.737071</td>\n",
       "      <td>5.218454</td>\n",
       "      <td>5.232118</td>\n",
       "      <td>3.221465</td>\n",
       "      <td>4204.166013</td>\n",
       "    </tr>\n",
       "  </tbody>\n",
       "</table>\n",
       "</div>"
      ],
      "text/plain": [
       "            carat      depth      table        price         x         y  \\\n",
       "clarity                                                                    \n",
       "I1       1.283846  62.734278  58.303779  3924.168691  6.761093  6.709379   \n",
       "IF       0.505123  61.510615  56.507207  2864.839106  4.968402  4.989827   \n",
       "SI1      0.850482  61.853042  57.662541  3996.001148  5.888383  5.888256   \n",
       "SI2      1.077648  61.772167  57.927181  5063.028606  6.401370  6.397826   \n",
       "VS1      0.727158  61.667458  57.315151  3839.455391  5.572178  5.581828   \n",
       "VS2      0.763935  61.724417  57.417401  3924.989395  5.657709  5.658859   \n",
       "VVS1     0.503321  61.624651  56.884460  2523.114637  4.960364  4.975075   \n",
       "VVS2     0.596202  61.663778  57.024990  3283.737071  5.218454  5.232118   \n",
       "\n",
       "                z  price/carat  \n",
       "clarity                         \n",
       "I1       4.207908  2796.296437  \n",
       "IF       3.061659  4259.931736  \n",
       "SI1      3.639845  3849.078018  \n",
       "SI2      3.948478  4010.853865  \n",
       "VS1      3.441007  4155.816808  \n",
       "VS2      3.491478  4080.526787  \n",
       "VVS1     3.061294  3851.410558  \n",
       "VVS2     3.221465  4204.166013  "
      ]
     },
     "execution_count": 108,
     "metadata": {
      "tags": []
     },
     "output_type": "execute_result"
    }
   ],
   "source": [
    "data_clarity = data.groupby(\"clarity\").mean()\n",
    "data_clarity"
   ]
  },
  {
   "cell_type": "code",
   "execution_count": null,
   "metadata": {
    "id": "gNBe0zQY9k-M"
   },
   "outputs": [],
   "source": [
    "# Create lists which hold the necessary data\n",
    "clarity_x = []\n",
    "clarity_y = []\n",
    "for i in [0, 3, 2, 5, 4, 7, 6, 1]: \n",
    "    # This specified list will help in making sure that the quality of the cut is arranged in the increasing order.  \n",
    "    # This information can be gathered from the data dictionary.  \n",
    "    clarity_x.append(data_clarity.index[i])\n",
    "    clarity_y.append(data_clarity.iloc[i,7])"
   ]
  },
  {
   "cell_type": "code",
   "execution_count": null,
   "metadata": {
    "id": "JAx6TiO09k-U",
    "outputId": "8c14601b-e715-4409-a23c-1c99033fdfa4"
   },
   "outputs": [
    {
     "data": {
      "text/plain": [
       "[2796.0, 4011.0, 3849.0, 4081.0, 4156.0, 4204.0, 3851.0, 4260.0]"
      ]
     },
     "execution_count": 113,
     "metadata": {
      "tags": []
     },
     "output_type": "execute_result"
    }
   ],
   "source": [
    "clarity_y = [round(num) for num in clarity_y]\n",
    "clarity_y"
   ]
  },
  {
   "cell_type": "code",
   "execution_count": null,
   "metadata": {
    "id": "v4DCtHSv9k-f",
    "outputId": "0ece9443-8a6b-4813-8f0d-4d6b3398831c"
   },
   "outputs": [
    {
     "data": {
      "text/html": [
       "<div>\n",
       "<style scoped>\n",
       "    .dataframe tbody tr th:only-of-type {\n",
       "        vertical-align: middle;\n",
       "    }\n",
       "\n",
       "    .dataframe tbody tr th {\n",
       "        vertical-align: top;\n",
       "    }\n",
       "\n",
       "    .dataframe thead th {\n",
       "        text-align: right;\n",
       "    }\n",
       "</style>\n",
       "<table border=\"1\" class=\"dataframe\">\n",
       "  <thead>\n",
       "    <tr style=\"text-align: right;\">\n",
       "      <th></th>\n",
       "      <th>carat</th>\n",
       "      <th>depth</th>\n",
       "      <th>table</th>\n",
       "      <th>price</th>\n",
       "      <th>x</th>\n",
       "      <th>y</th>\n",
       "      <th>z</th>\n",
       "      <th>price/carat</th>\n",
       "    </tr>\n",
       "    <tr>\n",
       "      <th>color</th>\n",
       "      <th></th>\n",
       "      <th></th>\n",
       "      <th></th>\n",
       "      <th></th>\n",
       "      <th></th>\n",
       "      <th></th>\n",
       "      <th></th>\n",
       "      <th></th>\n",
       "    </tr>\n",
       "  </thead>\n",
       "  <tbody>\n",
       "    <tr>\n",
       "      <th>D</th>\n",
       "      <td>0.657795</td>\n",
       "      <td>61.698125</td>\n",
       "      <td>57.404590</td>\n",
       "      <td>3169.954096</td>\n",
       "      <td>5.417051</td>\n",
       "      <td>5.421128</td>\n",
       "      <td>3.342827</td>\n",
       "      <td>3952.564280</td>\n",
       "    </tr>\n",
       "    <tr>\n",
       "      <th>E</th>\n",
       "      <td>0.657867</td>\n",
       "      <td>61.662090</td>\n",
       "      <td>57.491201</td>\n",
       "      <td>3076.752475</td>\n",
       "      <td>5.411580</td>\n",
       "      <td>5.419029</td>\n",
       "      <td>3.340689</td>\n",
       "      <td>3804.611475</td>\n",
       "    </tr>\n",
       "    <tr>\n",
       "      <th>F</th>\n",
       "      <td>0.736538</td>\n",
       "      <td>61.694582</td>\n",
       "      <td>57.433536</td>\n",
       "      <td>3724.886397</td>\n",
       "      <td>5.614961</td>\n",
       "      <td>5.619456</td>\n",
       "      <td>3.464446</td>\n",
       "      <td>4134.730684</td>\n",
       "    </tr>\n",
       "    <tr>\n",
       "      <th>G</th>\n",
       "      <td>0.771190</td>\n",
       "      <td>61.757111</td>\n",
       "      <td>57.288629</td>\n",
       "      <td>3999.135671</td>\n",
       "      <td>5.677543</td>\n",
       "      <td>5.680192</td>\n",
       "      <td>3.505021</td>\n",
       "      <td>4163.411524</td>\n",
       "    </tr>\n",
       "    <tr>\n",
       "      <th>H</th>\n",
       "      <td>0.911799</td>\n",
       "      <td>61.836850</td>\n",
       "      <td>57.517811</td>\n",
       "      <td>4486.669196</td>\n",
       "      <td>5.983335</td>\n",
       "      <td>5.984815</td>\n",
       "      <td>3.695965</td>\n",
       "      <td>4008.026941</td>\n",
       "    </tr>\n",
       "    <tr>\n",
       "      <th>I</th>\n",
       "      <td>1.026927</td>\n",
       "      <td>61.846385</td>\n",
       "      <td>57.577278</td>\n",
       "      <td>5091.874954</td>\n",
       "      <td>6.222826</td>\n",
       "      <td>6.222730</td>\n",
       "      <td>3.845411</td>\n",
       "      <td>3996.402051</td>\n",
       "    </tr>\n",
       "    <tr>\n",
       "      <th>J</th>\n",
       "      <td>1.162137</td>\n",
       "      <td>61.887215</td>\n",
       "      <td>57.812393</td>\n",
       "      <td>5323.818020</td>\n",
       "      <td>6.519338</td>\n",
       "      <td>6.518105</td>\n",
       "      <td>4.033251</td>\n",
       "      <td>3825.649192</td>\n",
       "    </tr>\n",
       "  </tbody>\n",
       "</table>\n",
       "</div>"
      ],
      "text/plain": [
       "          carat      depth      table        price         x         y  \\\n",
       "color                                                                    \n",
       "D      0.657795  61.698125  57.404590  3169.954096  5.417051  5.421128   \n",
       "E      0.657867  61.662090  57.491201  3076.752475  5.411580  5.419029   \n",
       "F      0.736538  61.694582  57.433536  3724.886397  5.614961  5.619456   \n",
       "G      0.771190  61.757111  57.288629  3999.135671  5.677543  5.680192   \n",
       "H      0.911799  61.836850  57.517811  4486.669196  5.983335  5.984815   \n",
       "I      1.026927  61.846385  57.577278  5091.874954  6.222826  6.222730   \n",
       "J      1.162137  61.887215  57.812393  5323.818020  6.519338  6.518105   \n",
       "\n",
       "              z  price/carat  \n",
       "color                         \n",
       "D      3.342827  3952.564280  \n",
       "E      3.340689  3804.611475  \n",
       "F      3.464446  4134.730684  \n",
       "G      3.505021  4163.411524  \n",
       "H      3.695965  4008.026941  \n",
       "I      3.845411  3996.402051  \n",
       "J      4.033251  3825.649192  "
      ]
     },
     "execution_count": 114,
     "metadata": {
      "tags": []
     },
     "output_type": "execute_result"
    }
   ],
   "source": [
    "data_color = data.groupby(\"color\").mean()\n",
    "data_color"
   ]
  },
  {
   "cell_type": "code",
   "execution_count": null,
   "metadata": {
    "id": "52cD5LA49k-p"
   },
   "outputs": [],
   "source": [
    "# Create lists which hold the necessary data\n",
    "color_x = []\n",
    "color_y = []\n",
    "for i in [6, 5, 4, 3, 2, 1, 0]: \n",
    "    # This specified list will help in making sure that the quality of the cut is arranged in the increasing order.  \n",
    "    # This information can be gathered from the data dictionary.  \n",
    "    color_x.append(data_color.index[i])\n",
    "    color_y.append(data_color.iloc[i,7])"
   ]
  },
  {
   "cell_type": "code",
   "execution_count": null,
   "metadata": {
    "id": "QC05Tvqz9k-x",
    "outputId": "ac0dea4b-acff-4787-c687-405533a0ec33"
   },
   "outputs": [
    {
     "data": {
      "text/plain": [
       "[3826.0, 3996.0, 4008.0, 4163.0, 4135.0, 3805.0, 3953.0]"
      ]
     },
     "execution_count": 116,
     "metadata": {
      "tags": []
     },
     "output_type": "execute_result"
    }
   ],
   "source": [
    "color_y = [round(num) for num in color_y]\n",
    "color_y"
   ]
  },
  {
   "cell_type": "markdown",
   "metadata": {
    "id": "NsVtj9Ev9k-5"
   },
   "source": [
    "Now you have all the necessary data to plot the two plots side by side. Again you need to use ```subplot()```"
   ]
  },
  {
   "cell_type": "code",
   "execution_count": null,
   "metadata": {
    "id": "8DS7G-CJ9k-6",
    "outputId": "8b085611-7d80-48db-e190-c2e27b4fd4e4",
    "scrolled": true
   },
   "outputs": [
    {
     "data": {
      "image/png": "[encoded data removed]",
      "text/plain": [
       "<Figure size 1116x396 with 2 Axes>"
      ]
     },
     "metadata": {
      "needs_background": "light",
      "tags": []
     },
     "output_type": "display_data"
    }
   ],
   "source": [
    "fig, ax = plt.subplots(ncols=2, sharey=True)\n",
    "\n",
    "clarity = ax[0].bar(clarity_x, clarity_y)\n",
    "ax[0].set_xlabel(\"Clarity\", fontdict={'fontsize': 12, 'fontweight' : \"bold\", 'color' : 'Brown'})\n",
    "ax[0].set_title('Clarity VS Mean price per carat', fontdict={'fontsize': 16, 'fontweight' : \"bold\", 'color' : 'Green'})\n",
    "\n",
    "color = ax[1].bar(color_x, color_y)\n",
    "ax[1].set_xlabel(\"Color\", fontdict={'fontsize': 12, 'fontweight' : \"bold\", 'color' : 'Brown'})\n",
    "ax[1].set_title('Color VS Mean price per carat', fontdict={'fontsize': 16, 'fontweight' : \"bold\", 'color' : 'Green'})\n",
    "\n",
    "fig.set_size_inches(15.5, 5.5, forward=True)\n",
    "\n",
    "plt.show()"
   ]
  },
  {
   "cell_type": "markdown",
   "metadata": {
    "id": "0Y5QVFQ19k_E"
   },
   "source": [
    "<h3 style = \"color : Blue\">Bonus Question </h3>\n",
    "\n",
    "Add data lables to the above plot. \n"
   ]
  },
  {
   "cell_type": "code",
   "execution_count": null,
   "metadata": {
    "id": "1_b6CwK19k_F",
    "outputId": "586d811d-20ff-4e87-a21b-0cce70f7aaea"
   },
   "outputs": [
    {
     "data": {
      "image/png": "[encoded data removed]",
      "text/plain": [
       "<Figure size 1116x396 with 2 Axes>"
      ]
     },
     "metadata": {
      "needs_background": "light",
      "tags": []
     },
     "output_type": "display_data"
    }
   ],
   "source": [
    "fig, ax = plt.subplots(ncols=2, sharey=True)\n",
    "\n",
    "clarity = ax[0].bar(clarity_x, clarity_y)\n",
    "ax[0].set_xlabel(\"Clarity\", fontdict={'fontsize': 12, 'fontweight' : \"bold\", 'color' : 'Brown'})\n",
    "ax[0].set_title('Clarity VS Mean price per carat', fontdict={'fontsize': 16, 'fontweight' : \"bold\", 'color' : 'Green'})\n",
    "for rect in clarity:\n",
    "    height = rect.get_height()\n",
    "    ax[0].annotate('{}'.format(height),\n",
    "                    xy=(rect.get_x() + rect.get_width() / 2, height),\n",
    "                    xytext=(0, 1),  \n",
    "                    textcoords=\"offset points\",\n",
    "                    ha='center', va='bottom')  \n",
    "\n",
    "    \n",
    "    \n",
    "color = ax[1].bar(color_x, color_y)\n",
    "ax[1].set_xlabel(\"Color\", fontdict={'fontsize': 12, 'fontweight' : \"bold\", 'color' : 'Brown'})\n",
    "ax[1].set_title('Color VS Mean price per carat', fontdict={'fontsize': 16, 'fontweight' : \"bold\", 'color' : 'Green'})\n",
    "for rect in color:\n",
    "    height = rect.get_height()\n",
    "    ax[1].annotate('{}'.format(height),\n",
    "                    xy=(rect.get_x() + rect.get_width() / 2, height),\n",
    "                    xytext=(0, 1),  \n",
    "                    textcoords=\"offset points\", \n",
    "                    ha='center', va='bottom')  \n",
    "    \n",
    "    \n",
    "fig.set_size_inches(15.5, 5.5, forward=True)\n",
    "\n",
    "plt.show()"
   ]
  },
  {
   "cell_type": "markdown",
   "metadata": {
    "id": "Gd-bIJ2L9lBN"
   },
   "source": [
    "Hopefully, you were able to solve all the questions to produce an outcome of the desired level. **Great job!** "
   ]
  }
 ],
 "metadata": {
  "colab": {
   "name": "Matplotlib-Solutions.ipynb",
   "provenance": []
  },
  "kernelspec": {
   "display_name": "Python 3",
   "language": "python",
   "name": "python3"
  },
  "language_info": {
   "codemirror_mode": {
    "name": "ipython",
    "version": 3
   },
   "file_extension": ".py",
   "mimetype": "text/x-python",
   "name": "python",
   "nbconvert_exporter": "python",
   "pygments_lexer": "ipython3",
   "version": "3.7.6"
  }
 },
 "nbformat": 4,
 "nbformat_minor": 1
}
